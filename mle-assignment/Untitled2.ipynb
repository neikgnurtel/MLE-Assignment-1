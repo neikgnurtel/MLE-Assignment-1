{
 "cells": [
  {
   "cell_type": "code",
   "execution_count": 1,
   "id": "83d96d1f-a3f8-4c34-a0d0-0be90ccf89bf",
   "metadata": {},
   "outputs": [
    {
     "name": "stdout",
     "output_type": "stream",
     "text": [
      "✅ Sanity check completed\n",
      "Features shape: (218902, 34), Labels: (218902,)\n",
      "Sanity AUC: 0.671\n"
     ]
    }
   ],
   "source": [
    "import pandas as pd\n",
    "import os\n",
    "from sklearn.linear_model import LogisticRegression\n",
    "from sklearn.model_selection import train_test_split\n",
    "from sklearn.metrics import roc_auc_score\n",
    "\n",
    "# Load Gold features & labels\n",
    "features = pd.read_parquet(\"datamart/gold/features.parquet\")\n",
    "labels = pd.read_parquet(\"datamart/gold/labels.parquet\")\n",
    "\n",
    "# Align features and labels by loan_id (ensure 1-to-1 mapping)\n",
    "df = features.merge(labels, on=\"loan_id\", how=\"inner\")\n",
    "\n",
    "# Define X, y\n",
    "X = df.drop(columns=[\"loan_id\", \"customer_id\", \"label_default\"], errors=\"ignore\")\n",
    "y = df[\"label_default\"]\n",
    "\n",
    "# Keep only numeric features\n",
    "X = X.select_dtypes(include=\"number\").fillna(0)\n",
    "\n",
    "# Train-test split (time-based: no shuffle to avoid leakage)\n",
    "X_train, X_test, y_train, y_test = train_test_split(\n",
    "    X, y, test_size=0.3, shuffle=False\n",
    ")\n",
    "\n",
    "# Train baseline logistic regression\n",
    "model = LogisticRegression(max_iter=1000)\n",
    "model.fit(X_train, y_train)\n",
    "\n",
    "# Predictions\n",
    "preds = model.predict_proba(X_test)[:, 1]\n",
    "\n",
    "# Evaluate\n",
    "auc = roc_auc_score(y_test, preds)\n",
    "print(\"✅ Sanity check completed\")\n",
    "print(f\"Features shape: {X.shape}, Labels: {y.shape}\")\n",
    "print(f\"Sanity AUC: {auc:.3f}\")"
   ]
  }
 ],
 "metadata": {
  "kernelspec": {
   "display_name": "Python 3 (ipykernel)",
   "language": "python",
   "name": "python3"
  },
  "language_info": {
   "codemirror_mode": {
    "name": "ipython",
    "version": 3
   },
   "file_extension": ".py",
   "mimetype": "text/x-python",
   "name": "python",
   "nbconvert_exporter": "python",
   "pygments_lexer": "ipython3",
   "version": "3.10.18"
  }
 },
 "nbformat": 4,
 "nbformat_minor": 5
}
