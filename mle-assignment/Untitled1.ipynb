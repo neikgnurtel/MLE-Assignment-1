{
 "cells": [
  {
   "cell_type": "code",
   "execution_count": 1,
   "id": "61c503f6-9223-4108-bf09-23b9b1bee3b8",
   "metadata": {},
   "outputs": [
    {
     "name": "stdout",
     "output_type": "stream",
     "text": [
      "Bronze: ['financials.parquet', 'clickstream.parquet', 'lms.parquet', 'attributes.parquet']\n",
      "Silver: ['financials.parquet', 'clickstream.parquet', 'lms.parquet', 'attributes.parquet']\n",
      "Gold: ['labels.parquet', 'features.parquet']\n",
      "Features shape: (218902, 55)\n",
      "Labels shape: (12500, 2)\n",
      "Labels distribution:\n",
      " label_default\n",
      "0    8898\n",
      "1    3602\n",
      "Name: count, dtype: int64\n",
      "                 loan_id customer_id loan_start_date  tenure  installment_num  \\\n",
      "0  CUS_0x1000_2023_05_01  CUS_0x1000      2023-05-01      10                0   \n",
      "1  CUS_0x1000_2023_05_01  CUS_0x1000      2023-05-01      10                0   \n",
      "2  CUS_0x1000_2023_05_01  CUS_0x1000      2023-05-01      10                0   \n",
      "\n",
      "   loan_amt  due_amt  paid_amt  overdue_amt  balance  ...  fe_11  fe_12  \\\n",
      "0     10000      0.0       0.0          0.0  10000.0  ...  185.0  398.0   \n",
      "1     10000      0.0       0.0          0.0  10000.0  ...  161.0  151.0   \n",
      "2     10000      0.0       0.0          0.0  10000.0  ...  124.0   29.0   \n",
      "\n",
      "   fe_13  fe_14  fe_15 fe_16  fe_17  fe_18  fe_19  fe_20  \n",
      "0  177.0  123.0   48.0   9.0   33.0  108.0  200.0  234.0  \n",
      "1    4.0   25.0  125.0  92.0  -60.0    7.0    7.0  145.0  \n",
      "2  282.0   83.0  253.0   0.0  106.0  217.0  129.0   84.0  \n",
      "\n",
      "[3 rows x 55 columns]\n"
     ]
    }
   ],
   "source": [
    "import os\n",
    "import pandas as pd\n",
    "\n",
    "# Bronze count\n",
    "print(\"Bronze:\", [f for f in os.listdir(\"datamart/bronze\")])\n",
    "print(\"Silver:\", [f for f in os.listdir(\"datamart/silver\")])\n",
    "print(\"Gold:\", [f for f in os.listdir(\"datamart/gold\")])\n",
    "\n",
    "features = pd.read_parquet(\"datamart/gold/features.parquet\")\n",
    "labels = pd.read_parquet(\"datamart/gold/labels.parquet\")\n",
    "\n",
    "print(\"Features shape:\", features.shape)\n",
    "print(\"Labels shape:\", labels.shape)\n",
    "print(\"Labels distribution:\\n\", labels[\"label_default\"].value_counts())\n",
    "print(features.head(3))"
   ]
  }
 ],
 "metadata": {
  "kernelspec": {
   "display_name": "Python 3 (ipykernel)",
   "language": "python",
   "name": "python3"
  },
  "language_info": {
   "codemirror_mode": {
    "name": "ipython",
    "version": 3
   },
   "file_extension": ".py",
   "mimetype": "text/x-python",
   "name": "python",
   "nbconvert_exporter": "python",
   "pygments_lexer": "ipython3",
   "version": "3.10.18"
  }
 },
 "nbformat": 4,
 "nbformat_minor": 5
}
